{
 "cells": [
  {
   "cell_type": "code",
   "execution_count": null,
   "id": "53536061",
   "metadata": {},
   "outputs": [],
   "source": [
    "import time\n",
    "\n",
    "start_time = time.time()"
   ]
  },
  {
   "cell_type": "code",
   "execution_count": null,
   "id": "674d4282",
   "metadata": {},
   "outputs": [],
   "source": [
    "import cv2\n",
    "import mediapipe as mp\n",
    "import json\n",
    "from tqdm import tqdm"
   ]
  },
  {
   "cell_type": "code",
   "execution_count": null,
   "id": "0ae727d8",
   "metadata": {},
   "outputs": [],
   "source": [
    "# Pad naar je video\n",
    "video_path = r\"C:\\Users\\maxim\\OneDrive\\01-Opleidingen\\03-MAAI\\Afstuderen\\Data\\Video's holland mechanics\\machine cover.mp4\"  # <-- verander dit\n",
    "output_json_path = 'handdetectie_resultaten_machine_cover_2.json'"
   ]
  },
  {
   "cell_type": "code",
   "execution_count": null,
   "id": "ee0af308",
   "metadata": {},
   "outputs": [],
   "source": [
    "# Initialiseer MediaPipe Hands\n",
    "mp_hands = mp.solutions.hands\n",
    "hands = mp_hands.Hands(static_image_mode=False, max_num_hands=2, min_detection_confidence=0.5)"
   ]
  },
  {
   "cell_type": "code",
   "execution_count": null,
   "id": "46114af6",
   "metadata": {},
   "outputs": [],
   "source": [
    "# Video openen\n",
    "cap = cv2.VideoCapture(video_path)\n",
    "frame_count = int(cap.get(cv2.CAP_PROP_FRAME_COUNT))\n",
    "fps = cap.get(cv2.CAP_PROP_FPS)\n",
    "\n",
    "results_per_frame = []\n",
    "\n",
    "# Verwerk elk frame\n",
    "for frame_idx in tqdm(range(frame_count), desc=\"Frames verwerken\"):\n",
    "    ret, frame = cap.read()\n",
    "    if not ret:\n",
    "        break\n",
    "\n",
    "    frame_rgb = cv2.cvtColor(frame, cv2.COLOR_BGR2RGB)\n",
    "    results = hands.process(frame_rgb)\n",
    "\n",
    "    time_sec = frame_idx / fps\n",
    "    frame_data = {\n",
    "        \"frame\": frame_idx,\n",
    "        \"time\": time_sec,\n",
    "        \"hands\": []\n",
    "    }\n",
    "\n",
    "    if results.multi_hand_landmarks:\n",
    "        for hand_landmarks in results.multi_hand_landmarks:\n",
    "            landmarks = []\n",
    "            for lm in hand_landmarks.landmark:\n",
    "                landmarks.append({\n",
    "                    \"x\": lm.x,\n",
    "                    \"y\": lm.y,\n",
    "                    \"z\": lm.z\n",
    "                })\n",
    "            frame_data[\"hands\"].append(landmarks)\n",
    "\n",
    "    results_per_frame.append(frame_data)\n"
   ]
  },
  {
   "cell_type": "code",
   "execution_count": null,
   "id": "df416d9b",
   "metadata": {},
   "outputs": [],
   "source": [
    "# Opslaan naar JSON-bestand\n",
    "with open(output_json_path, 'w') as f:\n",
    "    json.dump(results_per_frame, f, indent=2)\n",
    "\n",
    "cap.release()\n",
    "print(f\"Resultaten opgeslagen in: {output_json_path}\")"
   ]
  },
  {
   "cell_type": "code",
   "execution_count": null,
   "id": "eafa20f1",
   "metadata": {},
   "outputs": [],
   "source": [
    "end_time = time.time()\n",
    "elapsed_time = end_time - start_time\n",
    "print(f\"Totaal uitgevoerde tijd: {elapsed_time:.2f} seconden\")"
   ]
  },
  {
   "cell_type": "code",
   "execution_count": null,
   "id": "c5433bbf",
   "metadata": {},
   "outputs": [],
   "source": []
  },
  {
   "cell_type": "code",
   "execution_count": null,
   "id": "c0c7c051",
   "metadata": {},
   "outputs": [],
   "source": [
    "import cv2\n",
    "import mediapipe as mp\n",
    "import json\n",
    "from tqdm import tqdm\n",
    "\n",
    "# Pad naar input en output bestanden\n",
    "video_path = r\"C:\\Users\\maxim\\OneDrive\\01-Opleidingen\\03-MAAI\\Afstuderen\\Data\\Video's holland mechanics\\stabilizer pressure control.mp4\"\n",
    "output_json_path = 'handdetectie_resultaten_stabilizer pressure control_2.json'\n",
    "output_video_path = 'visualisatie_handdetectie.mp4'\n",
    "\n",
    "# Initialiseer MediaPipe Hands\n",
    "mp_hands = mp.solutions.hands\n",
    "mp_drawing = mp.solutions.drawing_utils\n",
    "hands = mp_hands.Hands(static_image_mode=False, max_num_hands=2, min_detection_confidence=0.5)\n",
    "\n",
    "# Open video\n",
    "cap = cv2.VideoCapture(video_path)\n",
    "frame_width = int(cap.get(cv2.CAP_PROP_FRAME_WIDTH))\n",
    "frame_height = int(cap.get(cv2.CAP_PROP_FRAME_HEIGHT))\n",
    "frame_count = int(cap.get(cv2.CAP_PROP_FRAME_COUNT))\n",
    "fps = cap.get(cv2.CAP_PROP_FPS)\n",
    "\n",
    "# Initialiseer video writer\n",
    "fourcc = cv2.VideoWriter_fourcc(*'mp4v')\n",
    "out = cv2.VideoWriter(output_video_path, fourcc, fps, (frame_width, frame_height))\n",
    "\n",
    "results_per_frame = []\n",
    "\n",
    "# Verwerk elk frame\n",
    "for frame_idx in tqdm(range(frame_count), desc=\"Frames verwerken\"):\n",
    "    ret, frame = cap.read()\n",
    "    if not ret:\n",
    "        break\n",
    "\n",
    "    frame_rgb = cv2.cvtColor(frame, cv2.COLOR_BGR2RGB)\n",
    "    results = hands.process(frame_rgb)\n",
    "\n",
    "    time_sec = frame_idx / fps\n",
    "    frame_data = {\n",
    "        \"frame\": frame_idx,\n",
    "        \"time\": time_sec,\n",
    "        \"hands\": []\n",
    "    }\n",
    "\n",
    "    if results.multi_hand_landmarks:\n",
    "        for hand_landmarks in results.multi_hand_landmarks:\n",
    "            landmarks = []\n",
    "            for lm in hand_landmarks.landmark:\n",
    "                landmarks.append({\n",
    "                    \"x\": lm.x,\n",
    "                    \"y\": lm.y,\n",
    "                    \"z\": lm.z\n",
    "                })\n",
    "            frame_data[\"hands\"].append(landmarks)\n",
    "\n",
    "            # Teken landmarks op het frame\n",
    "            mp_drawing.draw_landmarks(\n",
    "                frame,\n",
    "                hand_landmarks,\n",
    "                mp_hands.HAND_CONNECTIONS\n",
    "            )\n",
    "\n",
    "    results_per_frame.append(frame_data)\n",
    "\n",
    "    # Schrijf het frame met tekeningen naar de output video\n",
    "    out.write(frame)\n",
    "\n",
    "# Opslaan als JSON\n",
    "with open(output_json_path, 'w') as f:\n",
    "    json.dump(results_per_frame, f, indent=2)\n",
    "\n",
    "# Opruimen\n",
    "cap.release()\n",
    "out.release()\n",
    "hands.close()\n"
   ]
  }
 ],
 "metadata": {
  "kernelspec": {
   "display_name": "Afstuderen_MAAI",
   "language": "python",
   "name": "python3"
  },
  "language_info": {
   "codemirror_mode": {
    "name": "ipython",
    "version": 3
   },
   "file_extension": ".py",
   "mimetype": "text/x-python",
   "name": "python",
   "nbconvert_exporter": "python",
   "pygments_lexer": "ipython3",
   "version": "3.11.11"
  }
 },
 "nbformat": 4,
 "nbformat_minor": 5
}
