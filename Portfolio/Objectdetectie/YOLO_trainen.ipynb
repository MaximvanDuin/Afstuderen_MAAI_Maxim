{
 "cells": [
  {
   "cell_type": "code",
   "execution_count": null,
   "metadata": {},
   "outputs": [],
   "source": [
    "from ultralytics import YOLO\n",
    "import cv2\n",
    "import pandas as pd\n",
    "import matplotlib.pyplot as plt"
   ]
  },
  {
   "cell_type": "code",
   "execution_count": null,
   "metadata": {},
   "outputs": [],
   "source": [
    "# Laad een vooraf getraind model (bijv. YOLOv8n)\n",
    "model = YOLO(\"yolo12m.pt\").to(\"cuda\") "
   ]
  },
  {
   "cell_type": "code",
   "execution_count": null,
   "metadata": {},
   "outputs": [],
   "source": [
    "# Train het model\n",
    "# model.train(\n",
    "#     data=r\"C:\\Users\\maxim\\OneDrive\\01-Opleidingen\\03-MAAI\\Afstuderen\\Data\\YOLOv12v1\\data.yaml\",       # pad naar je data.yaml\n",
    "#     epochs=50,              # aantal epochs\n",
    "#     imgsz=640,              # inputgrootte\n",
    "#     batch=16,               # pas aan op basis van je GPU/CPU\n",
    "#     device=0,               # 0 = GPU, \"cpu\" = CPU\n",
    "# )\n",
    "\n",
    "model.train(\n",
    "    data=r\"C:\\Users\\maxim\\OneDrive\\01-Opleidingen\\03-MAAI\\Afstuderen\\Data\\YOLOv12v1\\data.yaml\",       # pad naar je data.yaml\n",
    "    epochs=100,              # aantal epochs\n",
    "    imgsz=640,              # inputgrootte\n",
    "    batch=16,               # pas aan op basis van je GPU/CPU\n",
    "    device=0,\n",
    "    degrees=30,\n",
    "    shear=10,\n",
    "    perspective=0.002,\n",
    "    flipud=0.1,\n",
    "    fliplr=0.5,\n",
    "    mixup=0.2,\n",
    "    copy_paste=0.2,\n",
    "    patience=10,\n",
    "    hsv_h=0.5,\n",
    "    mosaic=0            # 0 = GPU, \"cpu\" = CPU\n",
    ");\n",
    "\n",
    "# model.tune(\n",
    "#     data=r\"C:\\Users\\maxim\\OneDrive\\01-Opleidingen\\03-MAAI\\Afstuderen\\Data\\YOLOv12v1\\data.yaml\",\n",
    "#     epochs=100,\n",
    "#     imgsz=640,\n",
    "#     device=0,   \n",
    "#     patience=10,\n",
    "# )"
   ]
  },
  {
   "cell_type": "code",
   "execution_count": null,
   "metadata": {},
   "outputs": [],
   "source": [
    "%matplotlib inline\n",
    "#  Voorspel (lage confidence threshold)\n",
    "results = model.predict(source=r\"C:\\Users\\maxim\\OneDrive\\01-Opleidingen\\03-MAAI\\Afstuderen\\Data\\YOLOv12v1\\valid\\images\\IMG_1615_jpg.rf.a86b36c7c0b5e42e968c831cebad7d19.jpg\", conf=0.25, save=False, show=False)\n",
    "\n",
    "# Debug: zijn er boxes?\n",
    "if results[0].boxes:\n",
    "    print(f\"Gevonden: {len(results[0].boxes)} object(en)\")\n",
    "\n",
    "    # Annotated afbeelding ophalen\n",
    "    img = results[0].plot()\n",
    "    img = cv2.cvtColor(img, cv2.COLOR_BGR2RGB)\n",
    "\n",
    "    # Laat het zien\n",
    "    plt.imshow(img)\n",
    "    plt.axis(\"off\")\n",
    "    plt.show()\n",
    "else:\n",
    "    print(\"Geen objecten gedetecteerd.\")\n",
    "\n"
   ]
  },
  {
   "cell_type": "code",
   "execution_count": null,
   "metadata": {},
   "outputs": [],
   "source": [
    "model.save(\"YOLOv12mv8.pt\")\n"
   ]
  },
  {
   "cell_type": "code",
   "execution_count": null,
   "metadata": {},
   "outputs": [],
   "source": [
    "# Pad naar je trainingsresultaten\n",
    "df = pd.read_csv(r\"C:\\Users\\maxim\\OneDrive\\01-Opleidingen\\03-MAAI\\Afstuderen\\Objectdetectie\\runs\\detect\\train15\\results.csv\")\n",
    "\n",
    "# --- Plot 1: Box Loss ---\n",
    "plt.figure(figsize=(5, 2.5))\n",
    "plt.plot(df['epoch'], df['train/box_loss'], label='Train Box Loss')\n",
    "plt.plot(df['epoch'], df['val/box_loss'], label='Val Box Loss')\n",
    "plt.xlabel('Epoch')\n",
    "plt.ylabel('Box Loss')\n",
    "plt.title('Box Loss per Epoch')\n",
    "plt.legend()\n",
    "plt.show()\n",
    "\n",
    "# --- Plot 2: Class Loss ---\n",
    "plt.figure(figsize=(5, 2.5))\n",
    "plt.plot(df['epoch'], df['train/cls_loss'], label='Train Class Loss')\n",
    "plt.plot(df['epoch'], df['val/cls_loss'], label='Val Class Loss')\n",
    "plt.xlabel('Epoch')\n",
    "plt.ylabel('Class Loss')\n",
    "plt.title('Class Loss per Epoch')\n",
    "plt.legend()\n",
    "plt.show()\n",
    "\n",
    "# --- Plot 3: DFL Loss ---\n",
    "plt.figure(figsize=(5, 2.5))\n",
    "plt.plot(df['epoch'], df['train/dfl_loss'], label='Train DFL Loss')\n",
    "plt.plot(df['epoch'], df['val/dfl_loss'], label='Val DFL Loss')\n",
    "plt.xlabel('Epoch')\n",
    "plt.ylabel('DFL Loss')\n",
    "plt.title('DFL Loss per Epoch')\n",
    "plt.legend()\n",
    "plt.show()\n",
    "\n",
    "# Plot mAP\n",
    "plt.figure(figsize=(5, 2.5))\n",
    "plt.plot(df['epoch'], df['metrics/mAP50(B)'], label='mAP@0.5')\n",
    "plt.plot(df['epoch'], df['metrics/mAP50-95(B)'], label='mAP@0.5:0.95')\n",
    "plt.xlabel('Epoch')\n",
    "plt.ylabel('mAP')\n",
    "plt.title('mAP per Epoch val')\n",
    "plt.legend()\n",
    "plt.show()\n"
   ]
  },
  {
   "cell_type": "code",
   "execution_count": null,
   "metadata": {},
   "outputs": [],
   "source": [
    "# Zoek de rij met hoogste mAP@0.5:0.95\n",
    "best_epoch_row = df.loc[df['metrics/mAP50-95(B)'].idxmax()]\n",
    "\n",
    "# Print de resultaten van die epoch\n",
    "print(\"Beste epoch op basis van mAP@0.5:0.95:\")\n",
    "print(best_epoch_row)"
   ]
  },
  {
   "cell_type": "markdown",
   "metadata": {},
   "source": [
    "https://docs.ultralytics.com/usage/cfg/?utm_source=chatgpt.com#validation-settings"
   ]
  },
  {
   "cell_type": "code",
   "execution_count": null,
   "metadata": {},
   "outputs": [],
   "source": [
    "# from ultralytics import YOLO\n",
    "# # Laad het getrainde model (pas pad aan als nodig)\n",
    "# model = YOLO('YOLOv12sv7.pt').to(\"cuda\") \n",
    "\n",
    "# Pad naar je YAML bestand\n",
    "data_path = r\"C:\\Users\\maxim\\OneDrive\\01-Opleidingen\\03-MAAI\\Afstuderen\\Data\\YOLOv12v1\\data.yaml\""
   ]
  },
  {
   "cell_type": "code",
   "execution_count": null,
   "metadata": {},
   "outputs": [],
   "source": [
    "# ---- mAP op TRAINSET ----\n",
    "metrics_train = model.val(data=data_path, split='train', save=False, save_json=False, save_txt=False, plots=False)\n",
    "print(\"Trainset-resultaten:\")\n",
    "print(f\"mAP@0.5: {metrics_train.box.map50:.4f}\")\n",
    "print(f\"mAP@0.5:0.95: {metrics_train.box.map:.4f}\")"
   ]
  },
  {
   "cell_type": "code",
   "execution_count": null,
   "metadata": {},
   "outputs": [],
   "source": [
    "# ---- mAP op VALIDATIESET (standaard) ----\n",
    "metrics_val = model.val(data=data_path, split='val', save=False, save_json=False, save_txt=False, plots=False)  # split is default 'val'\n",
    "print(\"Validatie-resultaten:\")\n",
    "print(f\"mAP@0.5: {metrics_val.box.map50:.4f}\")\n",
    "print(f\"mAP@0.5:0.95: {metrics_val.box.map:.4f}\")"
   ]
  }
 ],
 "metadata": {
  "kernelspec": {
   "display_name": "Afstuderen_MAAI",
   "language": "python",
   "name": "python3"
  },
  "language_info": {
   "codemirror_mode": {
    "name": "ipython",
    "version": 3
   },
   "file_extension": ".py",
   "mimetype": "text/x-python",
   "name": "python",
   "nbconvert_exporter": "python",
   "pygments_lexer": "ipython3",
   "version": "3.11.11"
  }
 },
 "nbformat": 4,
 "nbformat_minor": 2
}
