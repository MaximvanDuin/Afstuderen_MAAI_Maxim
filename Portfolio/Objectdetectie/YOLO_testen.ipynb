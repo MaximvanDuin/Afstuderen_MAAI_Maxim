{
 "cells": [
  {
   "cell_type": "code",
   "execution_count": 1,
   "id": "93e6cae7",
   "metadata": {},
   "outputs": [],
   "source": [
    "from ultralytics import YOLO\n",
    "import cv2\n",
    "import pandas as pd\n",
    "import matplotlib.pyplot as plt"
   ]
  },
  {
   "cell_type": "code",
   "execution_count": null,
   "id": "86848d37",
   "metadata": {},
   "outputs": [
    {
     "name": "stdout",
     "output_type": "stream",
     "text": [
      "loading Roboflow workspace...\n",
      "loading Roboflow project...\n"
     ]
    }
   ],
   "source": [
    "from roboflow import Roboflow\n",
    "rf = Roboflow(api_key=\"...\")\n",
    "project = rf.workspace(\"afstuderen-maai\").project(\"maai-afstuderen\")\n",
    "version = project.version(1)\n",
    "dataset = version.download(\"yolov12\")"
   ]
  },
  {
   "cell_type": "code",
   "execution_count": 3,
   "id": "8200c2b1",
   "metadata": {},
   "outputs": [],
   "source": [
    "# Laad een vooraf getraind model (bijv. YOLOv8n)\n",
    "model = YOLO(\"YOLOv12mv8.pt\").to(\"cuda\") "
   ]
  },
  {
   "cell_type": "code",
   "execution_count": 4,
   "id": "a43b3f4e",
   "metadata": {},
   "outputs": [],
   "source": [
    "# Pad naar je YAML bestand\n",
    "data_path = r\"C:\\Users\\maxim\\OneDrive\\01-Opleidingen\\03-MAAI\\Afstuderen\\Objectdetectie\\MAAI-afstuderen-1\\data.yaml\""
   ]
  },
  {
   "cell_type": "code",
   "execution_count": 5,
   "id": "ce1c4843",
   "metadata": {},
   "outputs": [
    {
     "name": "stdout",
     "output_type": "stream",
     "text": [
      "YOLOv12m summary (fused): 169 layers, 20,133,439 parameters, 0 gradients, 67.3 GFLOPs\n"
     ]
    },
    {
     "name": "stderr",
     "output_type": "stream",
     "text": [
      "\u001b[34m\u001b[1mval: \u001b[0mScanning C:\\Users\\maxim\\OneDrive\\01-Opleidingen\\03-MAAI\\Afstuderen\\Objectdetectie\\MAAI-afstuderen-1\\train\\labels... 445 images, 4 backgrounds, 0 corrupt: 100%|██████████| 445/445 [00:00<00:00, 2617.14it/s]"
     ]
    },
    {
     "name": "stdout",
     "output_type": "stream",
     "text": [
      "\u001b[34m\u001b[1mval: \u001b[0mNew cache created: C:\\Users\\maxim\\OneDrive\\01-Opleidingen\\03-MAAI\\Afstuderen\\Objectdetectie\\MAAI-afstuderen-1\\train\\labels.cache\n"
     ]
    },
    {
     "name": "stderr",
     "output_type": "stream",
     "text": [
      "\n",
      "                 Class     Images  Instances      Box(P          R      mAP50  mAP50-95): 100%|██████████| 28/28 [00:17<00:00,  1.57it/s]\n"
     ]
    },
    {
     "name": "stdout",
     "output_type": "stream",
     "text": [
      "                   all        445       1094      0.988      0.994      0.994      0.919\n",
      "Afdekplaatje voor ventieleiland          5          5      0.961          1      0.995      0.894\n",
      "            Afstandbus         21         31      0.995          1      0.995       0.86\n",
      "           Bankschroef          9          9      0.978          1      0.995       0.93\n",
      "                Beugel         32         58          1      0.953      0.989      0.871\n",
      "                  Boor          9          9      0.977          1      0.995      0.964\n",
      "                  Bout         12        185          1      0.995      0.995      0.847\n",
      "            Bufferstop         12         12      0.979          1      0.995      0.954\n",
      "       Carrosseriering         22         51          1      0.968      0.995      0.866\n",
      "        Combinatietang         11         11      0.979          1      0.995      0.953\n",
      "              Deurstop         11         11      0.982          1      0.995      0.865\n",
      "              Draadtap          8          8      0.971          1      0.995      0.978\n",
      "              Guider L         18         18      0.983          1      0.995      0.936\n",
      "              Guider R         10         10       0.98          1      0.995      0.995\n",
      "          Inbussleutel         31         49      0.995          1      0.995      0.941\n",
      "                 Kabel         22         22          1      0.952      0.995      0.966\n",
      "             Kabelklem         15         15      0.993          1      0.995      0.924\n",
      "             Kaststeun          8         11      0.988          1      0.995      0.898\n",
      "         Kniekoppeling         24         42      0.992          1      0.995      0.928\n",
      "Luchtdruk Control Unit         27         27       0.99          1      0.995      0.953\n",
      "                  Moer         22         42      0.999          1      0.995      0.884\n",
      "         Momentsleutel         20         20      0.991          1      0.995      0.947\n",
      "         Montagebeugel         30         30      0.972          1      0.995      0.957\n",
      "                O-ring         12         12       0.98          1      0.995      0.947\n",
      " Pneumatische cilinder         41         50      0.995          1      0.995      0.919\n",
      "        Pressure plate         25         25       0.99          1      0.995      0.925\n",
      "       Reduceerventiel         13         13      0.983          1      0.995      0.913\n",
      "      Ringsteeksleutel         48         85      0.999          1      0.995      0.921\n",
      "             Scharnier         13         13      0.981          1      0.995      0.897\n",
      "      Schroevendraaier         27         27      0.991          1      0.995      0.927\n",
      "          Sensorbeugel         21         21          1       0.99      0.995      0.905\n",
      "              Silencer         14         14      0.988          1      0.995      0.885\n",
      "                V-blok         14         14      0.985          1      0.995      0.871\n",
      "                  Veer         35         35      0.995          1      0.995      0.868\n",
      "      Wheel catch axle         13         13      0.976          1      0.995      0.914\n",
      "              Wielgoot         33         53          1      0.922       0.95       0.88\n",
      "           Y-koppeling         24         24       0.99          1      0.995      0.934\n",
      "            montagevet         19         19      0.987          1      0.995      0.976\n",
      "Speed: 0.5ms preprocess, 31.4ms inference, 0.0ms loss, 0.8ms postprocess per image\n",
      "Saving runs\\detect\\val4\\predictions.json...\n",
      "Results saved to \u001b[1mruns\\detect\\val4\u001b[0m\n",
      "Trainset-resultaten:\n",
      "mAP@0.5: 0.9936\n",
      "mAP@0.5:0.95: 0.9188\n"
     ]
    }
   ],
   "source": [
    "# ---- mAP op TRAINSET ----\n",
    "metrics_train = model.val(data=data_path, split='train', save=True, save_json=True, save_txt=True, plots=True)\n",
    "print(\"Trainset-resultaten:\")\n",
    "print(f\"mAP@0.5: {metrics_train.box.map50:.4f}\")\n",
    "print(f\"mAP@0.5:0.95: {metrics_train.box.map:.4f}\")"
   ]
  },
  {
   "cell_type": "code",
   "execution_count": 6,
   "id": "82eccab7",
   "metadata": {},
   "outputs": [
    {
     "name": "stderr",
     "output_type": "stream",
     "text": [
      "\u001b[34m\u001b[1mval: \u001b[0mScanning C:\\Users\\maxim\\OneDrive\\01-Opleidingen\\03-MAAI\\Afstuderen\\Objectdetectie\\MAAI-afstuderen-1\\valid\\labels... 148 images, 1 backgrounds, 0 corrupt: 100%|██████████| 148/148 [00:00<00:00, 3068.39it/s]"
     ]
    },
    {
     "name": "stdout",
     "output_type": "stream",
     "text": [
      "\u001b[34m\u001b[1mval: \u001b[0mNew cache created: C:\\Users\\maxim\\OneDrive\\01-Opleidingen\\03-MAAI\\Afstuderen\\Objectdetectie\\MAAI-afstuderen-1\\valid\\labels.cache\n"
     ]
    },
    {
     "name": "stderr",
     "output_type": "stream",
     "text": [
      "\n",
      "                 Class     Images  Instances      Box(P          R      mAP50  mAP50-95): 100%|██████████| 10/10 [00:06<00:00,  1.63it/s]\n"
     ]
    },
    {
     "name": "stdout",
     "output_type": "stream",
     "text": [
      "                   all        148        368      0.962       0.98      0.988      0.887\n",
      "Afdekplaatje voor ventieleiland          1          1          1          1      0.995      0.995\n",
      "            Afstandbus         10         17      0.997          1      0.995      0.831\n",
      "           Bankschroef          2          2      0.965          1      0.995      0.905\n",
      "                Beugel          9         18          1      0.701      0.966      0.848\n",
      "                  Boor          4          4          1          1      0.995      0.967\n",
      "                  Bout          4         72      0.986      0.972      0.988      0.829\n",
      "            Bufferstop          2          2          1          1      0.995      0.821\n",
      "       Carrosseriering          8         20      0.995          1      0.995      0.851\n",
      "        Combinatietang          2          2      0.943          1      0.995      0.924\n",
      "              Deurstop          4          4          1          1      0.995      0.745\n",
      "              Draadtap          5          5      0.974          1      0.995      0.918\n",
      "              Guider L         13         13          1      0.974      0.995      0.837\n",
      "              Guider R          5          5      0.961          1      0.995      0.961\n",
      "          Inbussleutel         11         16      0.993          1      0.995      0.911\n",
      "                 Kabel          5          5      0.978          1      0.995      0.943\n",
      "             Kabelklem          1          1          1          1      0.995      0.895\n",
      "         Kniekoppeling          5          9      0.876          1      0.995      0.876\n",
      "Luchtdruk Control Unit          9          9      0.984          1      0.995      0.943\n",
      "                  Moer         13         22          1      0.898      0.937      0.818\n",
      "         Momentsleutel          8          8       0.99          1      0.995      0.963\n",
      "         Montagebeugel         16         16      0.984          1      0.995      0.921\n",
      "                O-ring          4          4      0.963          1      0.995      0.914\n",
      " Pneumatische cilinder         15         20          1      0.903      0.988      0.856\n",
      "        Pressure plate          3          3      0.905          1      0.995      0.929\n",
      "       Reduceerventiel          1          1      0.924          1      0.995      0.895\n",
      "      Ringsteeksleutel         17         24          1      0.971      0.995      0.869\n",
      "             Scharnier          2          2          1          1      0.995      0.933\n",
      "      Schroevendraaier         13         13      0.992          1      0.995      0.909\n",
      "          Sensorbeugel          6          6      0.937          1      0.995      0.982\n",
      "              Silencer          6          6      0.984          1      0.995      0.721\n",
      "                V-blok          5          5      0.974          1      0.995      0.849\n",
      "                  Veer          7          7      0.992      0.857      0.879      0.774\n",
      "      Wheel catch axle          5          5      0.783          1      0.962       0.86\n",
      "              Wielgoot          8         13      0.997          1      0.995      0.867\n",
      "           Y-koppeling          4          4      0.782          1      0.995      0.935\n",
      "            montagevet          4          4      0.783          1      0.995      0.927\n",
      "Speed: 0.6ms preprocess, 31.3ms inference, 0.0ms loss, 0.8ms postprocess per image\n",
      "Saving runs\\detect\\val5\\predictions.json...\n",
      "Results saved to \u001b[1mruns\\detect\\val5\u001b[0m\n",
      "Validatieset-resultaten:\n",
      "mAP@0.5: 0.9881\n",
      "mAP@0.5:0.95: 0.8868\n"
     ]
    }
   ],
   "source": [
    "# ---- mAP op TRAINSET ----\n",
    "metrics_val = model.val(data=data_path, split='val', save=True, save_json=True, save_txt=True, plots=True)\n",
    "print(\"Validatieset-resultaten:\")\n",
    "print(f\"mAP@0.5: {metrics_val.box.map50:.4f}\")\n",
    "print(f\"mAP@0.5:0.95: {metrics_val.box.map:.4f}\")"
   ]
  },
  {
   "cell_type": "code",
   "execution_count": 7,
   "id": "4cd4fe0e",
   "metadata": {},
   "outputs": [
    {
     "name": "stderr",
     "output_type": "stream",
     "text": [
      "\u001b[34m\u001b[1mval: \u001b[0mScanning C:\\Users\\maxim\\OneDrive\\01-Opleidingen\\03-MAAI\\Afstuderen\\Objectdetectie\\MAAI-afstuderen-1\\test\\labels... 148 images, 0 backgrounds, 0 corrupt: 100%|██████████| 148/148 [00:00<00:00, 2752.96it/s]"
     ]
    },
    {
     "name": "stdout",
     "output_type": "stream",
     "text": [
      "\u001b[34m\u001b[1mval: \u001b[0mNew cache created: C:\\Users\\maxim\\OneDrive\\01-Opleidingen\\03-MAAI\\Afstuderen\\Objectdetectie\\MAAI-afstuderen-1\\test\\labels.cache\n"
     ]
    },
    {
     "name": "stderr",
     "output_type": "stream",
     "text": [
      "\n",
      "                 Class     Images  Instances      Box(P          R      mAP50  mAP50-95): 100%|██████████| 10/10 [00:06<00:00,  1.59it/s]\n"
     ]
    },
    {
     "name": "stdout",
     "output_type": "stream",
     "text": [
      "                   all        148        325      0.964      0.947      0.969      0.856\n",
      "Afdekplaatje voor ventieleiland          5          5          1          1      0.995      0.876\n",
      "            Afstandbus          6          8      0.982          1      0.995      0.812\n",
      "           Bankschroef          3          3      0.966          1      0.995      0.796\n",
      "                Beugel         11         21          1      0.844      0.931      0.755\n",
      "                  Boor          2          2          1          1      0.995      0.995\n",
      "                  Bout          2         26      0.987      0.846      0.962      0.726\n",
      "            Bufferstop          2          2      0.933          1      0.995      0.929\n",
      "       Carrosseriering          2          5      0.974          1      0.995      0.886\n",
      "        Combinatietang          5          5      0.965          1      0.995      0.933\n",
      "              Deurstop          4          4          1          1      0.995      0.836\n",
      "              Draadtap          1          1      0.899          1      0.995      0.895\n",
      "              Guider L          9          9          1      0.919      0.995      0.863\n",
      "              Guider R          7          7          1      0.695      0.759      0.652\n",
      "          Inbussleutel          9         12      0.921          1      0.995       0.92\n",
      "                 Kabel          6          6          1      0.853      0.995      0.968\n",
      "             Kabelklem          3          3      0.974          1      0.995      0.895\n",
      "             Kaststeun          6          7      0.865          1      0.995      0.901\n",
      "         Kniekoppeling          7         13      0.989          1      0.995      0.938\n",
      "Luchtdruk Control Unit         15         15      0.987          1      0.995      0.958\n",
      "                  Moer          7         10       0.99        0.7      0.785      0.689\n",
      "         Momentsleutel          9          9      0.982          1      0.995      0.917\n",
      "         Montagebeugel         16         16          1      0.931      0.995      0.879\n",
      "                O-ring          1          1      0.885          1      0.995      0.895\n",
      " Pneumatische cilinder         12         17      0.886      0.941       0.94      0.807\n",
      "        Pressure plate          5          5      0.776      0.703       0.76      0.679\n",
      "       Reduceerventiel          5          5      0.969          1      0.995      0.896\n",
      "      Ringsteeksleutel         22         35       0.97      0.933      0.987      0.876\n",
      "             Scharnier          4          4      0.959          1      0.995      0.864\n",
      "      Schroevendraaier         20         20          1      0.986      0.995      0.908\n",
      "          Sensorbeugel          6          6          1      0.896      0.995      0.816\n",
      "              Silencer          1          1          1          1      0.995      0.895\n",
      "                V-blok          5          5      0.968          1      0.995      0.825\n",
      "                  Veer          7          7       0.99      0.857      0.878      0.583\n",
      "      Wheel catch axle          5          5        0.9          1      0.995      0.903\n",
      "              Wielgoot          8         13      0.997      0.923      0.986       0.85\n",
      "           Y-koppeling          9          9      0.979          1      0.995      0.905\n",
      "            montagevet          3          3      0.959          1      0.995      0.939\n",
      "Speed: 0.7ms preprocess, 32.4ms inference, 0.0ms loss, 0.6ms postprocess per image\n",
      "Saving runs\\detect\\val6\\predictions.json...\n",
      "Results saved to \u001b[1mruns\\detect\\val6\u001b[0m\n",
      "Testset-resultaten:\n",
      "mAP@0.5: 0.9689\n",
      "mAP@0.5:0.95: 0.8557\n"
     ]
    }
   ],
   "source": [
    "# ---- mAP op TRAINSET ----\n",
    "metrics_test = model.val(data=data_path, split='test', save=True, save_json=True, save_txt=True, plots=True)\n",
    "print(\"Testset-resultaten:\")\n",
    "print(f\"mAP@0.5: {metrics_test.box.map50:.4f}\")\n",
    "print(f\"mAP@0.5:0.95: {metrics_test.box.map:.4f}\")"
   ]
  }
 ],
 "metadata": {
  "kernelspec": {
   "display_name": "Afstuderen_MAAI",
   "language": "python",
   "name": "python3"
  },
  "language_info": {
   "codemirror_mode": {
    "name": "ipython",
    "version": 3
   },
   "file_extension": ".py",
   "mimetype": "text/x-python",
   "name": "python",
   "nbconvert_exporter": "python",
   "pygments_lexer": "ipython3",
   "version": "3.11.11"
  }
 },
 "nbformat": 4,
 "nbformat_minor": 5
}
