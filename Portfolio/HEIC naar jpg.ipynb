{
 "cells": [
  {
   "cell_type": "code",
   "execution_count": null,
   "metadata": {},
   "outputs": [],
   "source": [
    "import os\n",
    "from PIL import Image\n",
    "import pillow_heif\n"
   ]
  },
  {
   "cell_type": "code",
   "execution_count": null,
   "metadata": {},
   "outputs": [],
   "source": [
    "\n",
    "def convert_all_heic_in_folder(folder_path):\n",
    "    # Loop door alle bestanden in de map\n",
    "    for filename in os.listdir(folder_path):\n",
    "        if filename.lower().endswith(\".heic\"):\n",
    "            input_path = os.path.join(folder_path, filename)\n",
    "            output_path = os.path.splitext(input_path)[0] + \".jpg\"\n",
    "\n",
    "            try:\n",
    "                heif_file = pillow_heif.read_heif(input_path)\n",
    "                image = Image.frombytes(\n",
    "                    heif_file.mode,\n",
    "                    heif_file.size,\n",
    "                    heif_file.data,\n",
    "                    \"raw\"\n",
    "                )\n",
    "                image.save(output_path, \"JPEG\")\n",
    "                print(f\"Omgezet: {filename} -> {os.path.basename(output_path)}\")\n",
    "            except Exception as e:\n",
    "                print(f\"Fout bij {filename}: {e}\")\n",
    "\n"
   ]
  },
  {
   "cell_type": "code",
   "execution_count": null,
   "metadata": {},
   "outputs": [],
   "source": [
    "convert_all_heic_in_folder(r\"C:\\Users\\maxim\\OneDrive\\01-Opleidingen\\03-MAAI\\Afstuderen\\Data\\Foto's\")"
   ]
  },
  {
   "cell_type": "code",
   "execution_count": null,
   "metadata": {},
   "outputs": [],
   "source": [
    "def delete_heic_files(folder_path):\n",
    "    for filename in os.listdir(folder_path):\n",
    "        if filename.lower().endswith(\".heic\"):\n",
    "            file_path = os.path.join(folder_path, filename)\n",
    "            try:\n",
    "                os.remove(file_path)\n",
    "                print(f\"Verwijderd: {filename}\")\n",
    "            except Exception as e:\n",
    "                print(f\"Fout bij verwijderen van {filename}: {e}\")"
   ]
  },
  {
   "cell_type": "code",
   "execution_count": null,
   "metadata": {},
   "outputs": [],
   "source": [
    "delete_heic_files(r\"C:\\Users\\maxim\\OneDrive\\01-Opleidingen\\03-MAAI\\Afstuderen\\Data\\Foto's\")"
   ]
  }
 ],
 "metadata": {
  "kernelspec": {
   "display_name": "Afstuderen_MAAI",
   "language": "python",
   "name": "python3"
  },
  "language_info": {
   "codemirror_mode": {
    "name": "ipython",
    "version": 3
   },
   "file_extension": ".py",
   "mimetype": "text/x-python",
   "name": "python",
   "nbconvert_exporter": "python",
   "pygments_lexer": "ipython3",
   "version": "3.11.11"
  }
 },
 "nbformat": 4,
 "nbformat_minor": 2
}
